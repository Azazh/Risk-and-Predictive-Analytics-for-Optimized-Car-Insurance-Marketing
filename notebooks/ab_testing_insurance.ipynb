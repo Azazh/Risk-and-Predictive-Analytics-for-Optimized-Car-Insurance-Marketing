{
 "cells": [
  {
   "cell_type": "code",
   "execution_count": 1,
   "metadata": {},
   "outputs": [
    {
     "name": "stdout",
     "output_type": "stream",
     "text": [
      "KPI selected: TotalClaims\n",
      "Data segmented on 'Province': Group A = Gauteng, Group B = Western Cape\n",
      "Fail to reject the null hypothesis. p-value: 0.06215, stat: 1.86521\n"
     ]
    }
   ],
   "source": [
    "import os\n",
    "import sys\n",
    "sys.path.append(os.path.abspath(\"..\"))\n",
    "from scripts.ab_testing_insurance import ABHypothesisTester\n",
    "\n",
    "# Initialize the tester with the dataset\n",
    "tester = ABHypothesisTester('../data/MachineLearningRating_v3.txt')\n",
    "\n",
    "# Step 1: Select KPI\n",
    "tester.select_kpi('TotalClaims')  # Replace 'TotalClaims' with  chosen KPI\n",
    "\n",
    "# Step 2: Data Segmentation\n",
    "tester.segment_data('Province', 'Gauteng', 'Western Cape') \n",
    "\n",
    "# Step 3: Statistical Testing\n",
    "tester.test_hypothesis()\n",
    "\n",
    "# Step 4: Analyze and Report\n",
    "result = tester.analyze_results()\n",
    "print(result)\n"
   ]
  }
 ],
 "metadata": {
  "kernelspec": {
   "display_name": "myenv",
   "language": "python",
   "name": "python3"
  },
  "language_info": {
   "codemirror_mode": {
    "name": "ipython",
    "version": 3
   },
   "file_extension": ".py",
   "mimetype": "text/x-python",
   "name": "python",
   "nbconvert_exporter": "python",
   "pygments_lexer": "ipython3",
   "version": "3.10.12"
  }
 },
 "nbformat": 4,
 "nbformat_minor": 2
}
